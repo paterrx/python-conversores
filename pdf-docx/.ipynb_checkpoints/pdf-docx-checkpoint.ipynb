{
 "cells": [
  {
   "cell_type": "code",
   "execution_count": null,
   "id": "efb7413b-d6c3-4399-9b39-de83224027f5",
   "metadata": {},
   "outputs": [
    {
     "ename": "",
     "evalue": "",
     "output_type": "error",
     "traceback": [
      "\u001b[1;31mRunning cells with 'Python 3.12.3' requires the ipykernel package.\n",
      "\u001b[1;31mRun the following command to install 'ipykernel' into the Python environment. \n",
      "\u001b[1;31mCommand: 'c:/Users/GabrielAntunesPaterr/AppData/Local/Programs/Python/Python312/python.exe -m pip install ipykernel -U --user --force-reinstall'"
     ]
    }
   ],
   "source": [
    "# Import the required modules\n",
    "from pdf2docx import Converter\n",
    "\n",
    "# Keeping the PDF's location in a separate variable\n",
    "pdf_file = \"pdf/BCB.pdf\"\n",
    "\n",
    "# Maintaining the Document's path in a separate variable\n",
    "docx_file = \"docx/BCB.docx\"\n",
    "\n",
    "# Using the built-in function, convert the PDF file to a document file by saving it in a variable.\n",
    "cv = Converter(pdf_file)\n",
    "\n",
    "# Storing the Document in the variable's initialised path\n",
    "cv.convert(docx_file)\n",
    "\n",
    "# Conversion closure through the function close()\n",
    "cv.close()"
   ]
  },
  {
   "cell_type": "code",
   "execution_count": null,
   "id": "781059e1-08c4-45ad-b167-301ef46a1603",
   "metadata": {},
   "outputs": [],
   "source": []
  }
 ],
 "metadata": {
  "kernelspec": {
   "display_name": "Python 3 (ipykernel)",
   "language": "python",
   "name": "python3"
  },
  "language_info": {
   "codemirror_mode": {
    "name": "ipython",
    "version": 3
   },
   "file_extension": ".py",
   "mimetype": "text/x-python",
   "name": "python",
   "nbconvert_exporter": "python",
   "pygments_lexer": "ipython3",
   "version": "3.11.7"
  }
 },
 "nbformat": 4,
 "nbformat_minor": 5
}
