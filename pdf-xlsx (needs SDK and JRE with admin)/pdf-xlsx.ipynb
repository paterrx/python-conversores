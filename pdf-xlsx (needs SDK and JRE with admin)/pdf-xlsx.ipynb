{
 "cells": [
  {
   "cell_type": "code",
   "execution_count": 1,
   "id": "98ac2a27-7264-4309-8e35-918b711e6b84",
   "metadata": {},
   "outputs": [],
   "source": [
    "import tabula\n",
    "import pandas as pd\n",
    "\n",
    "def pdf_to_excel(pdf_file_path, excel_file_path):\n",
    "    # Read PDF file\n",
    "    tables = tabula.read_pdf(pdf_file_path, pages='all')\n",
    "\n",
    "    # Write each table to a separate sheet in the Excel file\n",
    "    with pd.ExcelWriter(excel_file_path) as writer:\n",
    "        for i, table in enumerate(tables):\n",
    "            table.to_excel(writer, sheet_name=f'Sheet{i+1}')\n",
    "\n",
    "\n",
    "pdf_to_excel('pdf/Input.pdf', 'xlsx/Output.xlsx')"
   ]
  },
  {
   "cell_type": "code",
   "execution_count": null,
   "id": "790b75b6-0f3f-4195-a38d-7d64f0b7e4d7",
   "metadata": {},
   "outputs": [],
   "source": []
  }
 ],
 "metadata": {
  "kernelspec": {
   "display_name": "Python 3 (ipykernel)",
   "language": "python",
   "name": "python3"
  },
  "language_info": {
   "codemirror_mode": {
    "name": "ipython",
    "version": 3
   },
   "file_extension": ".py",
   "mimetype": "text/x-python",
   "name": "python",
   "nbconvert_exporter": "python",
   "pygments_lexer": "ipython3",
   "version": "3.11.7"
  }
 },
 "nbformat": 4,
 "nbformat_minor": 5
}
