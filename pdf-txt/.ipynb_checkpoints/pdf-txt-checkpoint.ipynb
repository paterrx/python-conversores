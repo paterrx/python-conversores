{
 "cells": [
  {
   "cell_type": "code",
   "execution_count": 1,
   "id": "9a9303ca-65f7-4c9a-a923-d731ebad1499",
   "metadata": {},
   "outputs": [
    {
     "data": {
      "text/plain": [
       "<aspose.words.saving.SaveOutputParameters object at 0x000001DCA846B170>"
      ]
     },
     "execution_count": 1,
     "metadata": {},
     "output_type": "execute_result"
    }
   ],
   "source": [
    "import aspose.words as aw\n",
    "\n",
    "doc = aw.Document(\"pdf/Input.pdf\")\n",
    "doc.save(\"txt/Output.txt\")"
   ]
  },
  {
   "cell_type": "code",
   "execution_count": null,
   "id": "19be5c91-6d47-4857-9b09-98b5b9c7d72d",
   "metadata": {},
   "outputs": [],
   "source": []
  }
 ],
 "metadata": {
  "kernelspec": {
   "display_name": "Python 3 (ipykernel)",
   "language": "python",
   "name": "python3"
  },
  "language_info": {
   "codemirror_mode": {
    "name": "ipython",
    "version": 3
   },
   "file_extension": ".py",
   "mimetype": "text/x-python",
   "name": "python",
   "nbconvert_exporter": "python",
   "pygments_lexer": "ipython3",
   "version": "3.11.7"
  }
 },
 "nbformat": 4,
 "nbformat_minor": 5
}
